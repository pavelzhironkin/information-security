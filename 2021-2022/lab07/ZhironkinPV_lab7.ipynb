{
 "cells": [
  {
   "cell_type": "code",
   "execution_count": 11,
   "metadata": {},
   "outputs": [],
   "source": [
    "def to_hex (text):\n",
    "    hexa=[]\n",
    "    for i in text:\n",
    "        hexa.append(hex(ord(i))[2:])\n",
    "    return hexa"
   ]
  },
  {
   "cell_type": "code",
   "execution_count": 12,
   "metadata": {},
   "outputs": [],
   "source": [
    "def encryption1 (message, key):\n",
    "    cypher=[]\n",
    "    cypher_1=[]\n",
    "    for i, j in zip(message, key):\n",
    "        c=hex(int(i,16)^int(j,16))[2:]\n",
    "        c=(c,'0'+c)[len(c)==1]\n",
    "        cypher.append(c)\n",
    "        cypher_1.append(chr(int(i,16)^int(j,16)))\n",
    "    return cypher, cypher_1"
   ]
  },
  {
   "cell_type": "code",
   "execution_count": 13,
   "metadata": {},
   "outputs": [],
   "source": [
    "from random import randrange\n",
    "\n",
    "def gen_key (lenght):\n",
    "    key=[]\n",
    "    for _ in range(lenght):\n",
    "        temp=randrange(256)\n",
    "        temp=hex(temp)[2:]\n",
    "        key.append((temp,'0'+temp)[len(temp)==1])\n",
    "    return ' '.join(key)\n",
    "#print(gen_key(22))"
   ]
  },
  {
   "cell_type": "code",
   "execution_count": 14,
   "metadata": {},
   "outputs": [
    {
     "name": "stdout",
     "output_type": "stream",
     "text": [
      "Применение ключа к исходному сообщению.\n",
      "Сообщение:\t\t\t Лабораторная работа №7, Жиронкин Павел \n",
      "Ключ:\t\t\t\t 34 ae 36 42 e0 80 0f c3 c5 0f b6 91 a8 c5 39 5f ec 20 f4 0c 08 0b de c5 80 0b b3 32 2e 8e d3 d6 bd 80 af 12 3d fb\n",
      "Зашифрованное сообщение:\t 42f 49e 407 47c 4a0 4b0 44d 4fd 485 432 486 4de 88 485 409 46e 4d2 462 4c4 2c 211e 3c f2 e5 496 433 4f3 40c 413 4b4 4eb 4eb 9d 49f 49f 420 408 4c0\n",
      "\n",
      "\n",
      "Применение ключа к зашифрованному сообщению.\n",
      "Зашифрованное сообщение:\t 42f 49e 407 47c 4a0 4b0 44d 4fd 485 432 486 4de 88 485 409 46e 4d2 462 4c4 2c 211e 3c f2 e5 496 433 4f3 40c 413 4b4 4eb 4eb 9d 49f 49f 420 408 4c0 \n",
      "Ключ:\t\t\t\t 34 ae 36 42 e0 80 0f c3 c5 0f b6 91 a8 c5 39 5f ec 20 f4 0c 08 0b de c5 80 0b b3 32 2e 8e d3 d6 bd 80 af 12 3d fb\n",
      "Расшифрованное сообщение:\t Лабораторная работа №7, Жиронкин Павел\n"
     ]
    }
   ],
   "source": [
    "message='Лабораторная работа №7, Жиронкин Павел'\n",
    "#key='01 01 01 01 01 01 01 01 01 01 01 01 01 01 01 01 01 01 01 01 01 01'\n",
    "key=gen_key(len(message))\n",
    "#key = ' '.join(to_hex('КоломиецМарияВладимировна'))\n",
    "\n",
    "print('Применение ключа к исходному сообщению.\\nСообщение:\\t\\t\\t %s \\nКлюч:\\t\\t\\t\\t %s' %(message, key))\n",
    "key_m=key.split()\n",
    "message_hex = to_hex(message)\n",
    "\n",
    "cypher_hex, cypher=encryption1(message_hex, key_m)\n",
    "cypher=''.join(cypher)\n",
    "cypher_hex=' '.join(cypher_hex)\n",
    "#print('Зашифрованное сообщение:\\t %s' %cypher)\n",
    "print('Зашифрованное сообщение:\\t %s' %cypher_hex)\n",
    "\n",
    "print('\\n\\nПрименение ключа к зашифрованному сообщению.\\nЗашифрованное сообщение:\\t %s \\nКлюч:\\t\\t\\t\\t %s' %(cypher_hex, key))\n",
    "mess_hex, mess=encryption1(cypher_hex.split(), key_m)\n",
    "mess=''.join(mess)\n",
    "print('Расшифрованное сообщение:\\t %s' %mess)"
   ]
  },
  {
   "cell_type": "code",
   "execution_count": 15,
   "metadata": {},
   "outputs": [],
   "source": [
    "test='С Новым годом, друзья!'\n",
    "new_key_hex, new_key = encryption1(cypher_hex.split(), to_hex(test))"
   ]
  },
  {
   "cell_type": "code",
   "execution_count": 16,
   "metadata": {},
   "outputs": [
    {
     "name": "stdout",
     "output_type": "stream",
     "text": [
      "Подбор ключа.\n",
      "Зашифрованное сообщение:\t 42f 49e 407 47c 4a0 4b0 44d 4fd 485 432 486 4de 88 485 409 46e 4d2 462 4c4 2c 211e 3c f2 e5 496 433 4f3 40c 413 4b4 4eb 4eb 9d 49f 49f 420 408 4c0 \n",
      "Тестовый ключ:\t\t\t 34 ae 36 42 e0 80 0f c3 c5 0f b6 91 a8 c5 39 5f ec 20 f4 0c 08 0b de c5 80 0b b3 32 2e 8e d3 d6 bd 80 af 12 3d fb\n",
      "Возможное сообщение:\t\t С Новым годом, друзья!\n"
     ]
    }
   ],
   "source": [
    "test_key=' '.join(new_key_hex)\n",
    "test_key=test_key.split()\n",
    "print('Подбор ключа.\\nЗашифрованное сообщение:\\t %s \\nТестовый ключ:\\t\\t\\t %s' %(cypher_hex, key))\n",
    "mess_hex, mess=encryption1(cypher_hex.split(), test_key)\n",
    "mess=''.join(mess)\n",
    "print('Возможное сообщение:\\t\\t %s' %mess)"
   ]
  },
  {
   "cell_type": "code",
   "execution_count": null,
   "metadata": {},
   "outputs": [],
   "source": []
  }
 ],
 "metadata": {
  "kernelspec": {
   "display_name": "Python 3",
   "language": "python",
   "name": "python3"
  },
  "language_info": {
   "codemirror_mode": {
    "name": "ipython",
    "version": 3
   },
   "file_extension": ".py",
   "mimetype": "text/x-python",
   "name": "python",
   "nbconvert_exporter": "python",
   "pygments_lexer": "ipython3",
   "version": "3.7.8"
  }
 },
 "nbformat": 4,
 "nbformat_minor": 5
}
